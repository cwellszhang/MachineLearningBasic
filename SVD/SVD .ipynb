{
 "cells": [
  {
   "cell_type": "markdown",
   "metadata": {},
   "source": [
    "最常见的一种矩阵分解技术就是SVD。SVD将原始的数据集矩阵 data分解为三个矩阵U,$\\sigma$,$V^T$.\n",
    "$$Data_{mxn}=U_{m*m} \\sigma_{m*n}V^T_{n*n}$$"
   ]
  },
  {
   "cell_type": "code",
   "execution_count": 1,
   "metadata": {
    "collapsed": true
   },
   "outputs": [],
   "source": [
    "from numpy import *"
   ]
  },
  {
   "cell_type": "code",
   "execution_count": 2,
   "metadata": {
    "collapsed": true
   },
   "outputs": [],
   "source": [
    "def loadExData():\n",
    "    return [\n",
    "            [1,1,1,0,0],\n",
    "            [2,2,2,0,0],\n",
    "            [1,1,1,0,0],\n",
    "            [5,5,5,0,0],\n",
    "            [1,1,0,2,2],\n",
    "            [0,0,0,3,3],\n",
    "            [0,0,0,1,1]\n",
    "    ]"
   ]
  },
  {
   "cell_type": "code",
   "execution_count": 3,
   "metadata": {},
   "outputs": [
    {
     "data": {
      "text/plain": [
       "array([  9.72140007e+00,   5.29397912e+00,   6.84226362e-01,\n",
       "         1.25958571e-15,   2.05750739e-31])"
      ]
     },
     "execution_count": 3,
     "metadata": {},
     "output_type": "execute_result"
    }
   ],
   "source": [
    "Data = loadExData()\n",
    "U,Sigma,VT = linalg.svd(Data)\n",
    "Sigma"
   ]
  },
  {
   "cell_type": "markdown",
   "metadata": {},
   "source": [
    "前三个值比其他值大了很多，可以认为是噪声\n",
    "$$Data_{m*n} = U_{m*3}\\sigma_{3*3}V^T_{3*n}$$"
   ]
  },
  {
   "cell_type": "code",
   "execution_count": 4,
   "metadata": {
    "collapsed": true
   },
   "outputs": [],
   "source": [
    "# 还原矩阵"
   ]
  },
  {
   "cell_type": "code",
   "execution_count": 5,
   "metadata": {},
   "outputs": [
    {
     "data": {
      "text/plain": [
       "matrix([[ 9.72140007,  0.        ,  0.        ],\n",
       "        [ 0.        ,  5.29397912,  0.        ],\n",
       "        [ 0.        ,  0.        ,  0.68422636]])"
      ]
     },
     "execution_count": 5,
     "metadata": {},
     "output_type": "execute_result"
    }
   ],
   "source": [
    "Sig3 = mat([[Sigma[0],0,0],[0,Sigma[1],0],[0,0,Sigma[2]]])\n",
    "Sig3"
   ]
  },
  {
   "cell_type": "code",
   "execution_count": 6,
   "metadata": {
    "scrolled": true
   },
   "outputs": [
    {
     "data": {
      "text/plain": [
       "matrix([[  1.00000000e+00,   1.00000000e+00,   1.00000000e+00,\n",
       "           2.56622790e-16,   2.46764414e-16],\n",
       "        [  2.00000000e+00,   2.00000000e+00,   2.00000000e+00,\n",
       "           7.09097174e-17,   5.03069808e-17],\n",
       "        [  1.00000000e+00,   1.00000000e+00,   1.00000000e+00,\n",
       "          -5.29749231e-16,  -5.36896916e-16],\n",
       "        [  5.00000000e+00,   5.00000000e+00,   5.00000000e+00,\n",
       "           1.67297553e-16,   1.29236899e-16],\n",
       "        [  1.00000000e+00,   1.00000000e+00,  -8.66411359e-16,\n",
       "           2.00000000e+00,   2.00000000e+00],\n",
       "        [  4.32342232e-16,   1.03764899e-15,  -1.40367906e-15,\n",
       "           3.00000000e+00,   3.00000000e+00],\n",
       "        [  1.31838984e-16,   3.33066907e-16,  -4.44089210e-16,\n",
       "           1.00000000e+00,   1.00000000e+00]])"
      ]
     },
     "execution_count": 6,
     "metadata": {},
     "output_type": "execute_result"
    }
   ],
   "source": [
    "U[:,:3]*Sig3*VT[:3,:]"
   ]
  },
  {
   "cell_type": "markdown",
   "metadata": {},
   "source": [
    "# 推荐应用"
   ]
  },
  {
   "cell_type": "markdown",
   "metadata": {},
   "source": [
    "本次样本数据是11*11，其中行表示用户，列表示食品，中间数字表示该用户对食品的打分。如果数字为0，表示该用户没有吃过该食品。本次模型的目的就是向用户推荐未吃过的食品。\n",
    "\n",
    "推荐思路：\n",
    "* 首先，寻找用户未评价的食品，即用户-矩阵中的0值；\n",
    "* 再次，对用户未打分的食品，通过相似度计算预计其可能会打多少分数；\n",
    "* 最后，对这些打分的食品根据评分从高到低进行排序，返回前N个食品，这就是推荐结果。\n"
   ]
  },
  {
   "cell_type": "code",
   "execution_count": 7,
   "metadata": {
    "collapsed": true
   },
   "outputs": [],
   "source": [
    "def loadExData2():\n",
    "    return[[0, 0, 0, 0, 0, 4, 0, 0, 0, 0, 5],\n",
    "           [0, 0, 0, 3, 0, 4, 0, 0, 0, 0, 3],\n",
    "           [0, 0, 0, 0, 4, 0, 0, 1, 0, 4, 0],\n",
    "           [3, 3, 4, 0, 0, 0, 0, 2, 2, 0, 0],\n",
    "           [5, 4, 5, 0, 0, 0, 0, 5, 5, 0, 0],\n",
    "           [0, 0, 0, 0, 5, 0, 1, 0, 0, 5, 0],\n",
    "           [4, 3, 4, 0, 0, 0, 0, 5, 5, 0, 1],\n",
    "           [0, 0, 0, 4, 0, 4, 0, 0, 0, 0, 4],\n",
    "           [0, 0, 0, 2, 0, 2, 5, 0, 0, 1, 2],\n",
    "           [0, 0, 0, 0, 5, 0, 0, 0, 0, 4, 0],\n",
    "           [1, 0, 0, 0, 0, 0, 0, 1, 2, 0, 0]]"
   ]
  },
  {
   "cell_type": "markdown",
   "metadata": {
    "deletable": false,
    "editable": false,
    "run_control": {
     "frozen": true
    }
   },
   "source": [
    "## 基于协同过滤的推荐引擎"
   ]
  },
  {
   "cell_type": "markdown",
   "metadata": {
    "deletable": false,
    "editable": false,
    "run_control": {
     "frozen": true
    }
   },
   "source": [
    "### 相似度计算"
   ]
  },
  {
   "cell_type": "code",
   "execution_count": 8,
   "metadata": {
    "collapsed": true
   },
   "outputs": [],
   "source": [
    "# inA inB都是列向量\n",
    "from numpy import *\n",
    "from numpy import linalg as la\n",
    "def ecludSim(inA,inB):\n",
    "    #为将距离映射到[0,1]中，相似度=1/(1+欧氏距离)\n",
    "    return 1.0/(1.0 + la.norm(inA - inB))\n",
    "\n",
    "def pearsSim(inA,inB):\n",
    "    #皮尔森系数在[-1,1]之间，为映射到[0,1]之间，相似度=0.5+0.5*corroef\n",
    "    if len(inA) < 3 : return 1.0\n",
    "    return 0.5+0.5*corrcoef(inA, inB, rowvar = 0)[0][1]\n",
    "\n",
    "def cosSim(inA,inB):\n",
    "    #余弦夹角在[-1,1]之间，为映射到[0,1]之间，相似度=0.5+0.5*cos\n",
    "    num = float(inA.T*inB)\n",
    "    denom = la.norm(inA)*la.norm(inB)\n",
    "    return 0.5+0.5*(num/denom)"
   ]
  },
  {
   "cell_type": "code",
   "execution_count": 9,
   "metadata": {},
   "outputs": [
    {
     "name": "stdout",
     "output_type": "stream",
     "text": [
      "0.0846263260896\n",
      "0.300354087029\n",
      "0.5\n"
     ]
    }
   ],
   "source": [
    "mymat = mat(loadExData2())\n",
    "print(ecludSim(mymat[:,0],mymat[:,4]))\n",
    "print(pearsSim(mymat[:,0],mymat[:,4]))\n",
    "print(cosSim(mymat[:,0],mymat[:,4]))"
   ]
  },
  {
   "cell_type": "markdown",
   "metadata": {
    "deletable": false,
    "editable": false,
    "run_control": {
     "frozen": true
    }
   },
   "source": [
    "### 基于物品相似度的推荐引擎\n"
   ]
  },
  {
   "cell_type": "code",
   "execution_count": 10,
   "metadata": {
    "collapsed": true
   },
   "outputs": [],
   "source": [
    "#该函数用来计算在给定相似度计算方法的条件下，用户对物品的估计评分值。\n",
    "def standEst(dataMat,user,simMeas,item):\n",
    "    n = shape(dataMat)[1]\n",
    "    simTotal = 0.0;ratSimTotal =0.0\n",
    "    for j in range(n):\n",
    "        userRating = dataMat[user,j]\n",
    "        if userRating == 0 : continue\n",
    "        #寻找两个用户都评级的物品    \n",
    "        overLap  = nonzero(logical_and(dataMat[:,item].A>0,\\\n",
    "                          dataMat[:,j].A>0))[0]  \n",
    "        if len(overLap) ==0:similarity=0\n",
    "        else:\n",
    "            similarity = simMeas(dataMat[overLap,item],\n",
    "                                dataMat[overLap,j])\n",
    "        simTotal +=similarity\n",
    "        ratSimTotal +=similarity*userRating\n",
    "    if simTotal==0:return 0\n",
    "    else:\n",
    "        return ratSimTotal/simTotal"
   ]
  },
  {
   "cell_type": "markdown",
   "metadata": {},
   "source": [
    "### 基于SVD的评分估计"
   ]
  },
  {
   "cell_type": "code",
   "execution_count": 11,
   "metadata": {
    "collapsed": true
   },
   "outputs": [],
   "source": [
    "#该函数对给定用户给定物品构建了一个评分估计值。第三行对数据集进行了SVD分解，利用包含了90%能量值的\n",
    "#奇异值。然后利用这些奇异值构造出对角矩阵，利用U矩阵将物品转换到低维空间中。\n",
    "def svdEst(dataMat, user, simMeas, item):\n",
    "    n = shape(dataMat)[1]\n",
    "    simTotal = 0.0; ratSimTotal = 0.0\n",
    "    U,Sigma,VT = la.svd(dataMat)\n",
    "    Sig4 = mat(eye(4)*Sigma[:4]) #构建对角矩阵\n",
    "    xformedItems = dataMat.T * U[:,:4] * Sig4.I  #构建转换后的物品\n",
    "    for j in range(n):\n",
    "        userRating = dataMat[user,j]\n",
    "        if userRating == 0 or j==item: continue\n",
    "        similarity = simMeas(xformedItems[item,:].T,\\\n",
    "                             xformedItems[j,:].T)\n",
    "#         print('the %d and %d similarity is: %f' % (item, j, similarity))\n",
    "        simTotal += similarity\n",
    "        ratSimTotal += similarity * userRating\n",
    "    if simTotal == 0: return 0\n",
    "    else: return ratSimTotal/simTotal"
   ]
  },
  {
   "cell_type": "code",
   "execution_count": 12,
   "metadata": {
    "collapsed": true
   },
   "outputs": [],
   "source": [
    "def recommend(dataMat, user, N=3, simMeas=cosSim, estMethod=standEst):\n",
    "    unratedItems = nonzero(dataMat[user,:].A==0)[1]#find unrated items \n",
    "    if len(unratedItems) == 0: return 'you rated everything'\n",
    "    itemScores = []\n",
    "    for item in unratedItems:\n",
    "        estimatedScore = estMethod(dataMat, user, simMeas, item)\n",
    "        itemScores.append((item, estimatedScore))\n",
    "    return sorted(itemScores, key=lambda jj: jj[1], reverse=True)[:N]"
   ]
  },
  {
   "cell_type": "markdown",
   "metadata": {},
   "source": [
    "### 示例：对第三行用户进行推荐"
   ]
  },
  {
   "cell_type": "code",
   "execution_count": 13,
   "metadata": {},
   "outputs": [
    {
     "data": {
      "text/plain": [
       "[(3, 4.0), (5, 4.0), (6, 4.0)]"
      ]
     },
     "execution_count": 13,
     "metadata": {},
     "output_type": "execute_result"
    }
   ],
   "source": [
    "recommend(mymat,2,estMethod=standEst)"
   ]
  },
  {
   "cell_type": "markdown",
   "metadata": {},
   "source": [
    "输出结果为（[(3, 4.0), (5, 4.0), (6, 4.0)]），推荐第4/5/6个食品。"
   ]
  },
  {
   "cell_type": "code",
   "execution_count": 14,
   "metadata": {
    "scrolled": true
   },
   "outputs": [
    {
     "data": {
      "text/plain": [
       "[(6, 3.0394902391812892), (5, 3.0090087051508894), (3, 3.0058579857590901)]"
      ]
     },
     "execution_count": 14,
     "metadata": {},
     "output_type": "execute_result"
    }
   ],
   "source": [
    "recommend(mymat,2,estMethod=svdEst)"
   ]
  },
  {
   "cell_type": "markdown",
   "metadata": {},
   "source": [
    "输出结果为（[(6, 3.04), (5, 3.009), (10, 3.00)]），推荐第7/6/11个食品。"
   ]
  },
  {
   "cell_type": "markdown",
   "metadata": {},
   "source": [
    "从结果来看SVD推荐效果比较好,因为他对数据噪音进行了处理。"
   ]
  },
  {
   "cell_type": "markdown",
   "metadata": {},
   "source": [
    "### 进一步理解"
   ]
  },
  {
   "cell_type": "markdown",
   "metadata": {},
   "source": [
    "数据处理过程中得到的三个矩阵也有相关物理含义。但需要自己在业务中去摸索和理解。"
   ]
  },
  {
   "cell_type": "code",
   "execution_count": 15,
   "metadata": {
    "collapsed": true
   },
   "outputs": [],
   "source": [
    "u,s,v = linalg.svd(mymat)"
   ]
  },
  {
   "cell_type": "markdown",
   "metadata": {},
   "source": [
    "本次样本数据U的前第1列表示的就是用户吃过的食品的个数.两个值越接近表示越相同，\n",
    "其中第2个和8个用户都是＞ -0.1，表示只吃过2个物品。"
   ]
  },
  {
   "cell_type": "code",
   "execution_count": 16,
   "metadata": {},
   "outputs": [
    {
     "data": {
      "text/plain": [
       "matrix([[-0.02173672, -0.41043862],\n",
       "        [-0.01664767, -0.40868796],\n",
       "        [-0.03763173, -0.27302481],\n",
       "        [-0.3928286 ,  0.03215633],\n",
       "        [-0.68146521,  0.05125169],\n",
       "        [-0.01031581, -0.35826614],\n",
       "        [-0.60364271, -0.00222591],\n",
       "        [-0.02078959, -0.4841342 ],\n",
       "        [-0.01290907, -0.35922701],\n",
       "        [-0.00900549, -0.30733798],\n",
       "        [-0.11812788,  0.00805012]])"
      ]
     },
     "execution_count": 16,
     "metadata": {},
     "output_type": "execute_result"
    }
   ],
   "source": [
    "u[:,:2]"
   ]
  },
  {
   "cell_type": "markdown",
   "metadata": {},
   "source": [
    "V的第1行表示个食品之间的联系，比如都是日式、印式、美式等主题概念。"
   ]
  },
  {
   "cell_type": "code",
   "execution_count": 17,
   "metadata": {},
   "outputs": [
    {
     "data": {
      "text/plain": [
       "matrix([[-0.45137416, -0.36239706, -0.46879252, -0.01007685, -0.01567036,\n",
       "         -0.01664563, -0.00474684, -0.46712774, -0.47223188, -0.01591788,\n",
       "         -0.0552444 ],\n",
       "        [ 0.03084799,  0.02584428,  0.03296133, -0.34024331, -0.38750193,\n",
       "         -0.52000097, -0.18887149,  0.00389831,  0.02853952, -0.39205093,\n",
       "         -0.52034959]])"
      ]
     },
     "execution_count": 17,
     "metadata": {},
     "output_type": "execute_result"
    }
   ],
   "source": [
    "v[:2,]"
   ]
  }
 ],
 "metadata": {
  "kernelspec": {
   "display_name": "Python 3",
   "language": "python3",
   "name": "python3"
  },
  "language_info": {
   "codemirror_mode": {
    "name": "ipython",
    "version": 3
   },
   "file_extension": ".py",
   "mimetype": "text/x-python",
   "name": "python",
   "nbconvert_exporter": "python",
   "pygments_lexer": "ipython3",
   "version": "3.5.2"
  },
  "toc": {
   "nav_menu": {},
   "number_sections": true,
   "sideBar": true,
   "skip_h1_title": false,
   "toc_cell": false,
   "toc_position": {},
   "toc_section_display": "block",
   "toc_window_display": false
  },
  "varInspector": {
   "cols": {
    "lenName": 16,
    "lenType": 16,
    "lenVar": 40
   },
   "kernels_config": {
    "python": {
     "delete_cmd_postfix": "",
     "delete_cmd_prefix": "del ",
     "library": "var_list.py",
     "varRefreshCmd": "print(var_dic_list())"
    },
    "r": {
     "delete_cmd_postfix": ") ",
     "delete_cmd_prefix": "rm(",
     "library": "var_list.r",
     "varRefreshCmd": "cat(var_dic_list()) "
    }
   },
   "types_to_exclude": [
    "module",
    "function",
    "builtin_function_or_method",
    "instance",
    "_Feature"
   ],
   "window_display": false
  }
 },
 "nbformat": 4,
 "nbformat_minor": 2
}
